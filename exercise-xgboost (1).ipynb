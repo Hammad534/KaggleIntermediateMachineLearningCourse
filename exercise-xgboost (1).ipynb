{
 "cells": [
  {
   "cell_type": "markdown",
   "id": "36c70dde",
   "metadata": {
    "papermill": {
     "duration": 0.007989,
     "end_time": "2023-08-17T10:30:12.022071",
     "exception": false,
     "start_time": "2023-08-17T10:30:12.014082",
     "status": "completed"
    },
    "tags": []
   },
   "source": [
    "**This notebook is an exercise in the [Intermediate Machine Learning](https://www.kaggle.com/learn/intermediate-machine-learning) course.  You can reference the tutorial at [this link](https://www.kaggle.com/alexisbcook/xgboost).**\n",
    "\n",
    "---\n"
   ]
  },
  {
   "cell_type": "markdown",
   "id": "6520b162",
   "metadata": {
    "papermill": {
     "duration": 0.007245,
     "end_time": "2023-08-17T10:30:12.036263",
     "exception": false,
     "start_time": "2023-08-17T10:30:12.029018",
     "status": "completed"
    },
    "tags": []
   },
   "source": [
    "In this exercise, you will use your new knowledge to train a model with **gradient boosting**.\n",
    "\n",
    "# Setup\n",
    "\n",
    "The questions below will give you feedback on your work. Run the following cell to set up the feedback system."
   ]
  },
  {
   "cell_type": "code",
   "execution_count": 1,
   "id": "3ec5c189",
   "metadata": {
    "execution": {
     "iopub.execute_input": "2023-08-17T10:30:12.053605Z",
     "iopub.status.busy": "2023-08-17T10:30:12.052812Z",
     "iopub.status.idle": "2023-08-17T10:30:14.826452Z",
     "shell.execute_reply": "2023-08-17T10:30:14.825393Z"
    },
    "papermill": {
     "duration": 2.785793,
     "end_time": "2023-08-17T10:30:14.829449",
     "exception": false,
     "start_time": "2023-08-17T10:30:12.043656",
     "status": "completed"
    },
    "tags": []
   },
   "outputs": [
    {
     "name": "stderr",
     "output_type": "stream",
     "text": [
      "/opt/conda/lib/python3.10/site-packages/scipy/__init__.py:146: UserWarning: A NumPy version >=1.16.5 and <1.23.0 is required for this version of SciPy (detected version 1.23.5\n",
      "  warnings.warn(f\"A NumPy version >={np_minversion} and <{np_maxversion}\"\n"
     ]
    },
    {
     "name": "stdout",
     "output_type": "stream",
     "text": [
      "Setup Complete\n"
     ]
    }
   ],
   "source": [
    "# Set up code checking\n",
    "import os\n",
    "if not os.path.exists(\"../input/train.csv\"):\n",
    "    os.symlink(\"../input/home-data-for-ml-course/train.csv\", \"../input/train.csv\")  \n",
    "    os.symlink(\"../input/home-data-for-ml-course/test.csv\", \"../input/test.csv\") \n",
    "from learntools.core import binder\n",
    "binder.bind(globals())\n",
    "from learntools.ml_intermediate.ex6 import *\n",
    "print(\"Setup Complete\")"
   ]
  },
  {
   "cell_type": "markdown",
   "id": "b1241802",
   "metadata": {
    "papermill": {
     "duration": 0.006729,
     "end_time": "2023-08-17T10:30:14.844018",
     "exception": false,
     "start_time": "2023-08-17T10:30:14.837289",
     "status": "completed"
    },
    "tags": []
   },
   "source": [
    "You will work with the [Housing Prices Competition for Kaggle Learn Users](https://www.kaggle.com/c/home-data-for-ml-course) dataset from the previous exercise. \n",
    "\n",
    "![Ames Housing dataset image](https://storage.googleapis.com/kaggle-media/learn/images/lTJVG4e.png)\n",
    "\n",
    "Run the next code cell without changes to load the training and validation sets in `X_train`, `X_valid`, `y_train`, and `y_valid`.  The test set is loaded in `X_test`."
   ]
  },
  {
   "cell_type": "code",
   "execution_count": 2,
   "id": "91b4a4fd",
   "metadata": {
    "execution": {
     "iopub.execute_input": "2023-08-17T10:30:14.859640Z",
     "iopub.status.busy": "2023-08-17T10:30:14.859208Z",
     "iopub.status.idle": "2023-08-17T10:30:15.075044Z",
     "shell.execute_reply": "2023-08-17T10:30:15.073728Z"
    },
    "papermill": {
     "duration": 0.227143,
     "end_time": "2023-08-17T10:30:15.078060",
     "exception": false,
     "start_time": "2023-08-17T10:30:14.850917",
     "status": "completed"
    },
    "tags": []
   },
   "outputs": [],
   "source": [
    "import pandas as pd\n",
    "from sklearn.model_selection import train_test_split\n",
    "\n",
    "# Read the data\n",
    "X = pd.read_csv('../input/train.csv', index_col='Id')\n",
    "X_test_full = pd.read_csv('../input/test.csv', index_col='Id')\n",
    "\n",
    "# Remove rows with missing target, separate target from predictors\n",
    "X.dropna(axis=0, subset=['SalePrice'], inplace=True)\n",
    "y = X.SalePrice              \n",
    "X.drop(['SalePrice'], axis=1, inplace=True)\n",
    "\n",
    "# Break off validation set from training data\n",
    "X_train_full, X_valid_full, y_train, y_valid = train_test_split(X, y, train_size=0.8, test_size=0.2,\n",
    "                                                                random_state=0)\n",
    "\n",
    "# \"Cardinality\" means the number of unique values in a column\n",
    "# Select categorical columns with relatively low cardinality (convenient but arbitrary)\n",
    "low_cardinality_cols = [cname for cname in X_train_full.columns if X_train_full[cname].nunique() < 10 and \n",
    "                        X_train_full[cname].dtype == \"object\"]\n",
    "\n",
    "# Select numeric columns\n",
    "numeric_cols = [cname for cname in X_train_full.columns if X_train_full[cname].dtype in ['int64', 'float64']]\n",
    "\n",
    "# Keep selected columns only\n",
    "my_cols = low_cardinality_cols + numeric_cols\n",
    "X_train = X_train_full[my_cols].copy()\n",
    "X_valid = X_valid_full[my_cols].copy()\n",
    "X_test = X_test_full[my_cols].copy()\n",
    "\n",
    "# One-hot encode the data (to shorten the code, we use pandas)\n",
    "X_train = pd.get_dummies(X_train)\n",
    "X_valid = pd.get_dummies(X_valid)\n",
    "X_test = pd.get_dummies(X_test)\n",
    "X_train, X_valid = X_train.align(X_valid, join='left', axis=1)\n",
    "X_train, X_test = X_train.align(X_test, join='left', axis=1)"
   ]
  },
  {
   "cell_type": "markdown",
   "id": "be9d0178",
   "metadata": {
    "papermill": {
     "duration": 0.008565,
     "end_time": "2023-08-17T10:30:15.093934",
     "exception": false,
     "start_time": "2023-08-17T10:30:15.085369",
     "status": "completed"
    },
    "tags": []
   },
   "source": [
    "# Step 1: Build model\n",
    "\n",
    "### Part A\n",
    "\n",
    "In this step, you'll build and train your first model with gradient boosting.\n",
    "\n",
    "- Begin by setting `my_model_1` to an XGBoost model.  Use the [XGBRegressor](https://xgboost.readthedocs.io/en/latest/python/python_api.html#xgboost.XGBRegressor) class, and set the random seed to 0 (`random_state=0`).  **Leave all other parameters as default.**\n",
    "- Then, fit the model to the training data in `X_train` and `y_train`."
   ]
  },
  {
   "cell_type": "code",
   "execution_count": 3,
   "id": "34066957",
   "metadata": {
    "execution": {
     "iopub.execute_input": "2023-08-17T10:30:15.109625Z",
     "iopub.status.busy": "2023-08-17T10:30:15.109236Z",
     "iopub.status.idle": "2023-08-17T10:30:15.991809Z",
     "shell.execute_reply": "2023-08-17T10:30:15.990563Z"
    },
    "papermill": {
     "duration": 0.89387,
     "end_time": "2023-08-17T10:30:15.994780",
     "exception": false,
     "start_time": "2023-08-17T10:30:15.100910",
     "status": "completed"
    },
    "tags": []
   },
   "outputs": [
    {
     "data": {
      "application/javascript": [
       "parent.postMessage({\"jupyterEvent\": \"custom.exercise_interaction\", \"data\": {\"outcomeType\": 1, \"valueTowardsCompletion\": 0.5, \"interactionType\": 1, \"questionType\": 2, \"questionId\": \"1.1_Model1A\", \"learnToolsVersion\": \"0.3.4\", \"failureMessage\": \"\", \"exceptionClass\": \"\", \"trace\": \"\"}}, \"*\")"
      ],
      "text/plain": [
       "<IPython.core.display.Javascript object>"
      ]
     },
     "metadata": {},
     "output_type": "display_data"
    },
    {
     "data": {
      "text/markdown": [
       "<span style=\"color:#33cc33\">Correct</span>"
      ],
      "text/plain": [
       "Correct"
      ]
     },
     "metadata": {},
     "output_type": "display_data"
    }
   ],
   "source": [
    "from xgboost import XGBRegressor\n",
    "\n",
    "# Define the model\n",
    "my_model_1 = XGBRegressor(random_state=0) # Your code here\n",
    "\n",
    "# Fit the model\n",
    "my_model_1.fit(X_train, y_train) # Your code here\n",
    "\n",
    "# Check your answer\n",
    "step_1.a.check()"
   ]
  },
  {
   "cell_type": "code",
   "execution_count": 4,
   "id": "6dd24357",
   "metadata": {
    "execution": {
     "iopub.execute_input": "2023-08-17T10:30:16.011648Z",
     "iopub.status.busy": "2023-08-17T10:30:16.011055Z",
     "iopub.status.idle": "2023-08-17T10:30:16.016081Z",
     "shell.execute_reply": "2023-08-17T10:30:16.014914Z"
    },
    "papermill": {
     "duration": 0.016707,
     "end_time": "2023-08-17T10:30:16.019112",
     "exception": false,
     "start_time": "2023-08-17T10:30:16.002405",
     "status": "completed"
    },
    "tags": []
   },
   "outputs": [],
   "source": [
    "# Lines below will give you a hint or solution code\n",
    "#step_1.a.hint()\n",
    "#step_1.a.solution()"
   ]
  },
  {
   "cell_type": "markdown",
   "id": "76fd9eac",
   "metadata": {
    "papermill": {
     "duration": 0.007063,
     "end_time": "2023-08-17T10:30:16.033574",
     "exception": false,
     "start_time": "2023-08-17T10:30:16.026511",
     "status": "completed"
    },
    "tags": []
   },
   "source": [
    "### Part B\n",
    "\n",
    "Set `predictions_1` to the model's predictions for the validation data.  Recall that the validation features are stored in `X_valid`."
   ]
  },
  {
   "cell_type": "code",
   "execution_count": 5,
   "id": "52db21da",
   "metadata": {
    "execution": {
     "iopub.execute_input": "2023-08-17T10:30:16.050916Z",
     "iopub.status.busy": "2023-08-17T10:30:16.050502Z",
     "iopub.status.idle": "2023-08-17T10:30:16.081499Z",
     "shell.execute_reply": "2023-08-17T10:30:16.080246Z"
    },
    "papermill": {
     "duration": 0.043528,
     "end_time": "2023-08-17T10:30:16.085197",
     "exception": false,
     "start_time": "2023-08-17T10:30:16.041669",
     "status": "completed"
    },
    "tags": []
   },
   "outputs": [
    {
     "data": {
      "application/javascript": [
       "parent.postMessage({\"jupyterEvent\": \"custom.exercise_interaction\", \"data\": {\"outcomeType\": 1, \"valueTowardsCompletion\": 0.5, \"interactionType\": 1, \"questionType\": 2, \"questionId\": \"1.2_Model1B\", \"learnToolsVersion\": \"0.3.4\", \"failureMessage\": \"\", \"exceptionClass\": \"\", \"trace\": \"\"}}, \"*\")"
      ],
      "text/plain": [
       "<IPython.core.display.Javascript object>"
      ]
     },
     "metadata": {},
     "output_type": "display_data"
    },
    {
     "data": {
      "text/markdown": [
       "<span style=\"color:#33cc33\">Correct</span>"
      ],
      "text/plain": [
       "Correct"
      ]
     },
     "metadata": {},
     "output_type": "display_data"
    }
   ],
   "source": [
    "from sklearn.metrics import mean_absolute_error\n",
    "\n",
    "# Get predictions\n",
    "predictions_1 = my_model_1.predict(X_valid)  # Your code here\n",
    "\n",
    "# Check your answer\n",
    "step_1.b.check()"
   ]
  },
  {
   "cell_type": "code",
   "execution_count": 6,
   "id": "bb37fef3",
   "metadata": {
    "execution": {
     "iopub.execute_input": "2023-08-17T10:30:16.102929Z",
     "iopub.status.busy": "2023-08-17T10:30:16.102499Z",
     "iopub.status.idle": "2023-08-17T10:30:16.107540Z",
     "shell.execute_reply": "2023-08-17T10:30:16.106198Z"
    },
    "papermill": {
     "duration": 0.01724,
     "end_time": "2023-08-17T10:30:16.110672",
     "exception": false,
     "start_time": "2023-08-17T10:30:16.093432",
     "status": "completed"
    },
    "tags": []
   },
   "outputs": [],
   "source": [
    "# Lines below will give you a hint or solution code\n",
    "#step_1.b.hint()\n",
    "#step_1.b.solution()"
   ]
  },
  {
   "cell_type": "markdown",
   "id": "43bc92d5",
   "metadata": {
    "papermill": {
     "duration": 0.00785,
     "end_time": "2023-08-17T10:30:16.126567",
     "exception": false,
     "start_time": "2023-08-17T10:30:16.118717",
     "status": "completed"
    },
    "tags": []
   },
   "source": [
    "### Part C\n",
    "\n",
    "Finally, use the `mean_absolute_error()` function to calculate the mean absolute error (MAE) corresponding to the predictions for the validation set.  Recall that the labels for the validation data are stored in `y_valid`."
   ]
  },
  {
   "cell_type": "code",
   "execution_count": 7,
   "id": "4e1aad3f",
   "metadata": {
    "execution": {
     "iopub.execute_input": "2023-08-17T10:30:16.145071Z",
     "iopub.status.busy": "2023-08-17T10:30:16.144640Z",
     "iopub.status.idle": "2023-08-17T10:30:16.158197Z",
     "shell.execute_reply": "2023-08-17T10:30:16.156282Z"
    },
    "papermill": {
     "duration": 0.02585,
     "end_time": "2023-08-17T10:30:16.160848",
     "exception": false,
     "start_time": "2023-08-17T10:30:16.134998",
     "status": "completed"
    },
    "tags": []
   },
   "outputs": [
    {
     "name": "stdout",
     "output_type": "stream",
     "text": [
      "Mean Absolute Error: 17662.736729452055\n"
     ]
    },
    {
     "data": {
      "application/javascript": [
       "parent.postMessage({\"jupyterEvent\": \"custom.exercise_interaction\", \"data\": {\"outcomeType\": 1, \"valueTowardsCompletion\": 0.5, \"interactionType\": 1, \"questionType\": 2, \"questionId\": \"1.3_Model1C\", \"learnToolsVersion\": \"0.3.4\", \"failureMessage\": \"\", \"exceptionClass\": \"\", \"trace\": \"\"}}, \"*\")"
      ],
      "text/plain": [
       "<IPython.core.display.Javascript object>"
      ]
     },
     "metadata": {},
     "output_type": "display_data"
    },
    {
     "data": {
      "text/markdown": [
       "<span style=\"color:#33cc33\">Correct</span>"
      ],
      "text/plain": [
       "Correct"
      ]
     },
     "metadata": {},
     "output_type": "display_data"
    }
   ],
   "source": [
    "# Calculate MAE\n",
    "mae_1 = mean_absolute_error(predictions_1, y_valid) # Your code here\n",
    "\n",
    "# Uncomment to print MAE\n",
    "print(\"Mean Absolute Error:\" , mae_1)\n",
    "\n",
    "# Check your answer\n",
    "step_1.c.check()"
   ]
  },
  {
   "cell_type": "code",
   "execution_count": 8,
   "id": "e7fe49f2",
   "metadata": {
    "execution": {
     "iopub.execute_input": "2023-08-17T10:30:16.179242Z",
     "iopub.status.busy": "2023-08-17T10:30:16.178800Z",
     "iopub.status.idle": "2023-08-17T10:30:16.184230Z",
     "shell.execute_reply": "2023-08-17T10:30:16.182601Z"
    },
    "papermill": {
     "duration": 0.018437,
     "end_time": "2023-08-17T10:30:16.187490",
     "exception": false,
     "start_time": "2023-08-17T10:30:16.169053",
     "status": "completed"
    },
    "tags": []
   },
   "outputs": [],
   "source": [
    "# Lines below will give you a hint or solution code\n",
    "#step_1.c.hint()\n",
    "#step_1.c.solution()"
   ]
  },
  {
   "cell_type": "markdown",
   "id": "6fd3907d",
   "metadata": {
    "papermill": {
     "duration": 0.008812,
     "end_time": "2023-08-17T10:30:16.205517",
     "exception": false,
     "start_time": "2023-08-17T10:30:16.196705",
     "status": "completed"
    },
    "tags": []
   },
   "source": [
    "# Step 2: Improve the model\n",
    "\n",
    "Now that you've trained a default model as baseline, it's time to tinker with the parameters, to see if you can get better performance!\n",
    "- Begin by setting `my_model_2` to an XGBoost model, using the [XGBRegressor](https://xgboost.readthedocs.io/en/latest/python/python_api.html#xgboost.XGBRegressor) class.  Use what you learned in the previous tutorial to figure out how to change the default parameters (like `n_estimators` and `learning_rate`) to get better results.\n",
    "- Then, fit the model to the training data in `X_train` and `y_train`.\n",
    "- Set `predictions_2` to the model's predictions for the validation data.  Recall that the validation features are stored in `X_valid`.\n",
    "- Finally, use the `mean_absolute_error()` function to calculate the mean absolute error (MAE) corresponding to the predictions on the validation set.  Recall that the labels for the validation data are stored in `y_valid`.\n",
    "\n",
    "In order for this step to be marked correct, your model in `my_model_2` must attain lower MAE than the model in `my_model_1`. "
   ]
  },
  {
   "cell_type": "code",
   "execution_count": 9,
   "id": "f095b1fb",
   "metadata": {
    "execution": {
     "iopub.execute_input": "2023-08-17T10:30:16.224498Z",
     "iopub.status.busy": "2023-08-17T10:30:16.224046Z",
     "iopub.status.idle": "2023-08-17T10:30:25.636431Z",
     "shell.execute_reply": "2023-08-17T10:30:25.635523Z"
    },
    "papermill": {
     "duration": 9.427186,
     "end_time": "2023-08-17T10:30:25.641123",
     "exception": false,
     "start_time": "2023-08-17T10:30:16.213937",
     "status": "completed"
    },
    "tags": []
   },
   "outputs": [
    {
     "name": "stdout",
     "output_type": "stream",
     "text": [
      "Mean Absolute Error: 16688.691513270547\n"
     ]
    },
    {
     "data": {
      "application/javascript": [
       "parent.postMessage({\"jupyterEvent\": \"custom.exercise_interaction\", \"data\": {\"outcomeType\": 1, \"valueTowardsCompletion\": 0.5, \"interactionType\": 1, \"questionType\": 2, \"questionId\": \"2_Model2\", \"learnToolsVersion\": \"0.3.4\", \"failureMessage\": \"\", \"exceptionClass\": \"\", \"trace\": \"\"}}, \"*\")"
      ],
      "text/plain": [
       "<IPython.core.display.Javascript object>"
      ]
     },
     "metadata": {},
     "output_type": "display_data"
    },
    {
     "data": {
      "text/markdown": [
       "<span style=\"color:#33cc33\">Correct</span>"
      ],
      "text/plain": [
       "Correct"
      ]
     },
     "metadata": {},
     "output_type": "display_data"
    }
   ],
   "source": [
    "# Define the model\n",
    "my_model_2 = XGBRegressor(n_estimators=1000, learning_rate=0.05, n_jobs=4) # Your code here\n",
    "\n",
    "# Fit the model\n",
    "my_model_2.fit(X_train, y_train, \n",
    "             eval_set=[(X_valid, y_valid)],\n",
    "             verbose=False) # Your code here\n",
    "\n",
    "# Get predictions\n",
    "predictions_2 =my_model_2.predict(X_valid) # Your code here\n",
    "\n",
    "# Calculate MAE\n",
    "mae_2 = mean_absolute_error(predictions_2, y_valid)\n",
    "\n",
    "# Uncomment to print MAE\n",
    "print(\"Mean Absolute Error:\" , mae_2)\n",
    "\n",
    "# Check your answer\n",
    "step_2.check()"
   ]
  },
  {
   "cell_type": "code",
   "execution_count": 10,
   "id": "bc1ffb9a",
   "metadata": {
    "execution": {
     "iopub.execute_input": "2023-08-17T10:30:25.661160Z",
     "iopub.status.busy": "2023-08-17T10:30:25.660736Z",
     "iopub.status.idle": "2023-08-17T10:30:25.666780Z",
     "shell.execute_reply": "2023-08-17T10:30:25.665022Z"
    },
    "papermill": {
     "duration": 0.018845,
     "end_time": "2023-08-17T10:30:25.669552",
     "exception": false,
     "start_time": "2023-08-17T10:30:25.650707",
     "status": "completed"
    },
    "tags": []
   },
   "outputs": [],
   "source": [
    "# Lines below will give you a hint or solution code\n",
    "#step_2.hint()\n",
    "#step_2.solution()"
   ]
  },
  {
   "cell_type": "markdown",
   "id": "8690c095",
   "metadata": {
    "papermill": {
     "duration": 0.008254,
     "end_time": "2023-08-17T10:30:25.686436",
     "exception": false,
     "start_time": "2023-08-17T10:30:25.678182",
     "status": "completed"
    },
    "tags": []
   },
   "source": [
    "# Step 3: Break the model\n",
    "\n",
    "In this step, you will create a model that performs worse than the original model in Step 1.  This will help you to develop your intuition for how to set parameters.  You might even find that you accidentally get better performance, which is ultimately a nice problem to have and a valuable learning experience!\n",
    "- Begin by setting `my_model_3` to an XGBoost model, using the [XGBRegressor](https://xgboost.readthedocs.io/en/latest/python/python_api.html#xgboost.XGBRegressor) class.  Use what you learned in the previous tutorial to figure out how to change the default parameters (like `n_estimators` and `learning_rate`) to design a model to get high MAE.\n",
    "- Then, fit the model to the training data in `X_train` and `y_train`.\n",
    "- Set `predictions_3` to the model's predictions for the validation data.  Recall that the validation features are stored in `X_valid`.\n",
    "- Finally, use the `mean_absolute_error()` function to calculate the mean absolute error (MAE) corresponding to the predictions on the validation set.  Recall that the labels for the validation data are stored in `y_valid`.\n",
    "\n",
    "In order for this step to be marked correct, your model in `my_model_3` must attain higher MAE than the model in `my_model_1`. "
   ]
  },
  {
   "cell_type": "code",
   "execution_count": 11,
   "id": "d5815958",
   "metadata": {
    "execution": {
     "iopub.execute_input": "2023-08-17T10:30:25.705310Z",
     "iopub.status.busy": "2023-08-17T10:30:25.704915Z",
     "iopub.status.idle": "2023-08-17T10:30:25.787707Z",
     "shell.execute_reply": "2023-08-17T10:30:25.786676Z"
    },
    "papermill": {
     "duration": 0.095261,
     "end_time": "2023-08-17T10:30:25.790265",
     "exception": false,
     "start_time": "2023-08-17T10:30:25.695004",
     "status": "completed"
    },
    "tags": []
   },
   "outputs": [
    {
     "name": "stderr",
     "output_type": "stream",
     "text": [
      "/opt/conda/lib/python3.10/site-packages/xgboost/sklearn.py:835: UserWarning: `early_stopping_rounds` in `fit` method is deprecated for better compatibility with scikit-learn, use `early_stopping_rounds` in constructor or`set_params` instead.\n",
      "  warnings.warn(\n"
     ]
    },
    {
     "data": {
      "application/javascript": [
       "parent.postMessage({\"jupyterEvent\": \"custom.exercise_interaction\", \"data\": {\"outcomeType\": 4, \"interactionType\": 1, \"questionType\": 2, \"questionId\": \"3_Model3\", \"learnToolsVersion\": \"0.3.4\", \"valueTowardsCompletion\": 0.0, \"failureMessage\": \"\", \"exceptionClass\": \"\", \"trace\": \"\"}}, \"*\")"
      ],
      "text/plain": [
       "<IPython.core.display.Javascript object>"
      ]
     },
     "metadata": {},
     "output_type": "display_data"
    },
    {
     "data": {
      "text/markdown": [
       "<span style=\"color:#ccaa33\">Check:</span> When you've updated the starter code, `check()` will tell you whether your code is correct. You need to update the code that creates variables `my_model_3`, `predictions_3`, `mae_3`"
      ],
      "text/plain": [
       "Check: When you've updated the starter code, `check()` will tell you whether your code is correct. You need to update the code that creates variables `my_model_3`, `predictions_3`, `mae_3`"
      ]
     },
     "metadata": {},
     "output_type": "display_data"
    }
   ],
   "source": [
    "# Define the model\n",
    "my_model_3 = XGBRegressor(n_estimators=1, learning_rate=0.05, n_jobs=4)\n",
    "\n",
    "# Fit the model\n",
    "my_model_3.fit(X_train, y_train, \n",
    "             early_stopping_rounds=5,  \n",
    "             eval_set=[(X_valid, y_valid)],\n",
    "             verbose=False)\n",
    "\n",
    "# Get predictions\n",
    "predictions_3 = my_model_3.predict(X_valid)\n",
    "\n",
    "# Calculate MAE\n",
    "mae_3 = ____\n",
    "\n",
    "# Uncomment to print MAE\n",
    "# print(\"Mean Absolute Error:\" , mae_3)\n",
    "\n",
    "# Check your answer\n",
    "step_3.check()"
   ]
  },
  {
   "cell_type": "code",
   "execution_count": 12,
   "id": "57de9072",
   "metadata": {
    "execution": {
     "iopub.execute_input": "2023-08-17T10:30:25.811229Z",
     "iopub.status.busy": "2023-08-17T10:30:25.810796Z",
     "iopub.status.idle": "2023-08-17T10:30:25.815912Z",
     "shell.execute_reply": "2023-08-17T10:30:25.814631Z"
    },
    "papermill": {
     "duration": 0.018039,
     "end_time": "2023-08-17T10:30:25.818354",
     "exception": false,
     "start_time": "2023-08-17T10:30:25.800315",
     "status": "completed"
    },
    "tags": []
   },
   "outputs": [],
   "source": [
    "# Lines below will give you a hint or solution code\n",
    "#step_3.hint()\n",
    "#step_3.solution()"
   ]
  },
  {
   "cell_type": "markdown",
   "id": "ae464e6d",
   "metadata": {
    "papermill": {
     "duration": 0.008972,
     "end_time": "2023-08-17T10:30:25.836903",
     "exception": false,
     "start_time": "2023-08-17T10:30:25.827931",
     "status": "completed"
    },
    "tags": []
   },
   "source": [
    "# Keep going\n",
    "\n",
    "Continue to learn about **[data leakage](https://www.kaggle.com/alexisbcook/data-leakage)**.  This is an important issue for a data scientist to understand, and it has the potential to ruin your models in subtle and dangerous ways!"
   ]
  },
  {
   "cell_type": "markdown",
   "id": "a3b3a350",
   "metadata": {
    "papermill": {
     "duration": 0.008723,
     "end_time": "2023-08-17T10:30:25.854684",
     "exception": false,
     "start_time": "2023-08-17T10:30:25.845961",
     "status": "completed"
    },
    "tags": []
   },
   "source": [
    "---\n",
    "\n",
    "\n",
    "\n",
    "\n",
    "*Have questions or comments? Visit the [course discussion forum](https://www.kaggle.com/learn/intermediate-machine-learning/discussion) to chat with other learners.*"
   ]
  }
 ],
 "metadata": {
  "kernelspec": {
   "display_name": "Python 3",
   "language": "python",
   "name": "python3"
  },
  "language_info": {
   "codemirror_mode": {
    "name": "ipython",
    "version": 3
   },
   "file_extension": ".py",
   "mimetype": "text/x-python",
   "name": "python",
   "nbconvert_exporter": "python",
   "pygments_lexer": "ipython3",
   "version": "3.10.12"
  },
  "papermill": {
   "default_parameters": {},
   "duration": 27.722046,
   "end_time": "2023-08-17T10:30:26.888356",
   "environment_variables": {},
   "exception": null,
   "input_path": "__notebook__.ipynb",
   "output_path": "__notebook__.ipynb",
   "parameters": {},
   "start_time": "2023-08-17T10:29:59.166310",
   "version": "2.4.0"
  }
 },
 "nbformat": 4,
 "nbformat_minor": 5
}
